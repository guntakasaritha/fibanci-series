{
 "cells": [
  {
   "cell_type": "code",
   "execution_count": 2,
   "id": "08616aeb-d90a-4142-aaa4-7f7387b5cedc",
   "metadata": {},
   "outputs": [
    {
     "name": "stdin",
     "output_type": "stream",
     "text": [
      "enter a number: 5\n"
     ]
    },
    {
     "name": "stdout",
     "output_type": "stream",
     "text": [
      "5 is odd\n"
     ]
    }
   ],
   "source": [
    "def one(n):\n",
    "    if n==0:\n",
    "        return True\n",
    "    else:\n",
    "        return two(n-1)\n",
    "def two(n):\n",
    "    if n==0:\n",
    "        return False\n",
    "    else:\n",
    "        return one(n-1)\n",
    "num= int(input(\"enter a number:\"))\n",
    "if one(num):\n",
    "    print(num, \"is even\")\n",
    "else:\n",
    "    print(num, \"is odd\")"
   ]
  },
  {
   "cell_type": "code",
   "execution_count": 1,
   "id": "f0970d02-332b-42f8-b3cf-4316eb2deffa",
   "metadata": {},
   "outputs": [
    {
     "name": "stdin",
     "output_type": "stream",
     "text": [
      "enter a number: 2\n"
     ]
    },
    {
     "name": "stdout",
     "output_type": "stream",
     "text": [
      "rahul 2\n",
      "vajrala 1\n"
     ]
    }
   ],
   "source": [
    "def A(n):\n",
    "    if n<=0:\n",
    "        return\n",
    "    print(\"rahul\", n)\n",
    "    B(n-1)\n",
    "def B(n):\n",
    "    if n<=0:\n",
    "        return\n",
    "    print(\"vajrala\",n)\n",
    "    A(n-1)\n",
    "num= int(input(\"enter a number:\"))\n",
    "A(num)"
   ]
  },
  {
   "cell_type": "code",
   "execution_count": null,
   "id": "56a0aad8-851f-404b-a296-74b0eb7f719f",
   "metadata": {},
   "outputs": [],
   "source": []
  }
 ],
 "metadata": {
  "kernelspec": {
   "display_name": "Python 3 (ipykernel)",
   "language": "python",
   "name": "python3"
  },
  "language_info": {
   "codemirror_mode": {
    "name": "ipython",
    "version": 3
   },
   "file_extension": ".py",
   "mimetype": "text/x-python",
   "name": "python",
   "nbconvert_exporter": "python",
   "pygments_lexer": "ipython3",
   "version": "3.12.7"
  }
 },
 "nbformat": 4,
 "nbformat_minor": 5
}
